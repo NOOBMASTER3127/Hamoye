{
  "cells": [
    {
      "cell_type": "markdown",
      "source": [
        "#CASE STUDY </br>\n",
        "###Detection Of Dendrites Using Machine Learning Techniques"
      ],
      "metadata": {
        "id": "5Dkq978jAQgy"
      }
    },
    {
      "cell_type": "markdown",
      "source": [
        "Installing dependancies"
      ],
      "metadata": {
        "id": "NO2XKNCdAgwC"
      }
    },
    {
      "cell_type": "code",
      "source": [
        "from google.colab import drive\n",
        "drive.mount('/content/gdrive')"
      ],
      "metadata": {
        "id": "48Pq82CXK5Ph",
        "colab": {
          "base_uri": "https://localhost:8080/"
        },
        "outputId": "a03d0312-e034-47d0-e268-dbf4674b04b6"
      },
      "execution_count": null,
      "outputs": [
        {
          "output_type": "stream",
          "name": "stdout",
          "text": [
            "Drive already mounted at /content/gdrive; to attempt to forcibly remount, call drive.mount(\"/content/gdrive\", force_remount=True).\n"
          ]
        }
      ]
    },
    {
      "cell_type": "code",
      "execution_count": null,
      "metadata": {
        "id": "m0KAL-pWKa1i"
      },
      "outputs": [],
      "source": [
        "import os\n",
        "import glob\n",
        "import numpy as np\n",
        "import pandas as pd\n",
        "import cv2\n",
        "from tensorflow.keras.preprocessing.image import img_to_array,load_img\n",
        "from tensorflow.keras.models import Model\n",
        "from os.path import join\n",
        "from sklearn.model_selection import train_test_split"
      ]
    },
    {
      "cell_type": "markdown",
      "source": [
        "Loading the Image Datasets into a DataFrame"
      ],
      "metadata": {
        "id": "DK0h_54YAnXd"
      }
    },
    {
      "cell_type": "code",
      "execution_count": null,
      "metadata": {
        "id": "c-XhCGOBKa1n"
      },
      "outputs": [],
      "source": [
        "dendrite_dir = \"/content/gdrive/MyDrive/dataset 2/Dendritic\"\n",
        "all_dendrite_path = [join(dendrite_dir,filename) for filename in os.listdir(dendrite_dir)]\n",
        "\n",
        "non_dendrite_dir = \"/content/gdrive/MyDrive/dataset 2/Non-Dendritic\"\n",
        "non_dendrite_path = [join(non_dendrite_dir,filename) for filename in os.listdir(non_dendrite_dir)]\n",
        "\n",
        "all_paths = all_dendrite_path + non_dendrite_path\n",
        "\n",
        "df1 = pd.DataFrame({\n",
        "    'path': all_paths,\n",
        "    'is_present': [1 if path in all_dendrite_path else 0 for path in all_paths] })"
      ]
    },
    {
      "cell_type": "code",
      "source": [
        "dendrite_dir = \"/content/gdrive/MyDrive/matsc_dataset1/dendrite\"\n",
        "all_dendrite_path = [join(dendrite_dir,filename) for filename in os.listdir(dendrite_dir)]\n",
        "\n",
        "non_dendrite_dir = \"/content/gdrive/MyDrive/matsc_dataset1/non_dendrite\"\n",
        "non_dendrite_path = [join(non_dendrite_dir,filename) for filename in os.listdir(non_dendrite_dir)]\n",
        "\n",
        "all_paths = all_dendrite_path + non_dendrite_path\n",
        "\n",
        "df2 = pd.DataFrame({\n",
        "    'path': all_paths,\n",
        "    'is_present': [1 if path in all_dendrite_path else 0 for path in all_paths] })"
      ],
      "metadata": {
        "id": "OrZzDxTE9xCG"
      },
      "execution_count": null,
      "outputs": []
    },
    {
      "cell_type": "code",
      "execution_count": null,
      "metadata": {
        "id": "IQDW8-YaKa1n"
      },
      "outputs": [],
      "source": [
        "frame = [df1,df2]\n",
        "df = pd.concat(frame)"
      ]
    },
    {
      "cell_type": "code",
      "source": [
        "df"
      ],
      "metadata": {
        "colab": {
          "base_uri": "https://localhost:8080/",
          "height": 423
        },
        "id": "BtBVw1r8-Yqu",
        "outputId": "8edb02a6-c730-4ece-8aea-16bbe72f2d75"
      },
      "execution_count": null,
      "outputs": [
        {
          "output_type": "execute_result",
          "data": {
            "text/plain": [
              "                                                  path  is_present\n",
              "0    /content/gdrive/MyDrive/dataset 2/Dendritic/20...           1\n",
              "1    /content/gdrive/MyDrive/dataset 2/Dendritic/20...           1\n",
              "2    /content/gdrive/MyDrive/dataset 2/Dendritic/11...           1\n",
              "3    /content/gdrive/MyDrive/dataset 2/Dendritic/8....           1\n",
              "4    /content/gdrive/MyDrive/dataset 2/Dendritic/5....           1\n",
              "..                                                 ...         ...\n",
              "568  /content/gdrive/MyDrive/matsc_dataset1/non_den...           0\n",
              "569  /content/gdrive/MyDrive/matsc_dataset1/non_den...           0\n",
              "570  /content/gdrive/MyDrive/matsc_dataset1/non_den...           0\n",
              "571  /content/gdrive/MyDrive/matsc_dataset1/non_den...           0\n",
              "572  /content/gdrive/MyDrive/matsc_dataset1/non_den...           0\n",
              "\n",
              "[1148 rows x 2 columns]"
            ],
            "text/html": [
              "\n",
              "  <div id=\"df-dd31e464-3092-437a-b558-b583a8d63419\">\n",
              "    <div class=\"colab-df-container\">\n",
              "      <div>\n",
              "<style scoped>\n",
              "    .dataframe tbody tr th:only-of-type {\n",
              "        vertical-align: middle;\n",
              "    }\n",
              "\n",
              "    .dataframe tbody tr th {\n",
              "        vertical-align: top;\n",
              "    }\n",
              "\n",
              "    .dataframe thead th {\n",
              "        text-align: right;\n",
              "    }\n",
              "</style>\n",
              "<table border=\"1\" class=\"dataframe\">\n",
              "  <thead>\n",
              "    <tr style=\"text-align: right;\">\n",
              "      <th></th>\n",
              "      <th>path</th>\n",
              "      <th>is_present</th>\n",
              "    </tr>\n",
              "  </thead>\n",
              "  <tbody>\n",
              "    <tr>\n",
              "      <th>0</th>\n",
              "      <td>/content/gdrive/MyDrive/dataset 2/Dendritic/20...</td>\n",
              "      <td>1</td>\n",
              "    </tr>\n",
              "    <tr>\n",
              "      <th>1</th>\n",
              "      <td>/content/gdrive/MyDrive/dataset 2/Dendritic/20...</td>\n",
              "      <td>1</td>\n",
              "    </tr>\n",
              "    <tr>\n",
              "      <th>2</th>\n",
              "      <td>/content/gdrive/MyDrive/dataset 2/Dendritic/11...</td>\n",
              "      <td>1</td>\n",
              "    </tr>\n",
              "    <tr>\n",
              "      <th>3</th>\n",
              "      <td>/content/gdrive/MyDrive/dataset 2/Dendritic/8....</td>\n",
              "      <td>1</td>\n",
              "    </tr>\n",
              "    <tr>\n",
              "      <th>4</th>\n",
              "      <td>/content/gdrive/MyDrive/dataset 2/Dendritic/5....</td>\n",
              "      <td>1</td>\n",
              "    </tr>\n",
              "    <tr>\n",
              "      <th>...</th>\n",
              "      <td>...</td>\n",
              "      <td>...</td>\n",
              "    </tr>\n",
              "    <tr>\n",
              "      <th>568</th>\n",
              "      <td>/content/gdrive/MyDrive/matsc_dataset1/non_den...</td>\n",
              "      <td>0</td>\n",
              "    </tr>\n",
              "    <tr>\n",
              "      <th>569</th>\n",
              "      <td>/content/gdrive/MyDrive/matsc_dataset1/non_den...</td>\n",
              "      <td>0</td>\n",
              "    </tr>\n",
              "    <tr>\n",
              "      <th>570</th>\n",
              "      <td>/content/gdrive/MyDrive/matsc_dataset1/non_den...</td>\n",
              "      <td>0</td>\n",
              "    </tr>\n",
              "    <tr>\n",
              "      <th>571</th>\n",
              "      <td>/content/gdrive/MyDrive/matsc_dataset1/non_den...</td>\n",
              "      <td>0</td>\n",
              "    </tr>\n",
              "    <tr>\n",
              "      <th>572</th>\n",
              "      <td>/content/gdrive/MyDrive/matsc_dataset1/non_den...</td>\n",
              "      <td>0</td>\n",
              "    </tr>\n",
              "  </tbody>\n",
              "</table>\n",
              "<p>1148 rows × 2 columns</p>\n",
              "</div>\n",
              "      <button class=\"colab-df-convert\" onclick=\"convertToInteractive('df-dd31e464-3092-437a-b558-b583a8d63419')\"\n",
              "              title=\"Convert this dataframe to an interactive table.\"\n",
              "              style=\"display:none;\">\n",
              "        \n",
              "  <svg xmlns=\"http://www.w3.org/2000/svg\" height=\"24px\"viewBox=\"0 0 24 24\"\n",
              "       width=\"24px\">\n",
              "    <path d=\"M0 0h24v24H0V0z\" fill=\"none\"/>\n",
              "    <path d=\"M18.56 5.44l.94 2.06.94-2.06 2.06-.94-2.06-.94-.94-2.06-.94 2.06-2.06.94zm-11 1L8.5 8.5l.94-2.06 2.06-.94-2.06-.94L8.5 2.5l-.94 2.06-2.06.94zm10 10l.94 2.06.94-2.06 2.06-.94-2.06-.94-.94-2.06-.94 2.06-2.06.94z\"/><path d=\"M17.41 7.96l-1.37-1.37c-.4-.4-.92-.59-1.43-.59-.52 0-1.04.2-1.43.59L10.3 9.45l-7.72 7.72c-.78.78-.78 2.05 0 2.83L4 21.41c.39.39.9.59 1.41.59.51 0 1.02-.2 1.41-.59l7.78-7.78 2.81-2.81c.8-.78.8-2.07 0-2.86zM5.41 20L4 18.59l7.72-7.72 1.47 1.35L5.41 20z\"/>\n",
              "  </svg>\n",
              "      </button>\n",
              "      \n",
              "  <style>\n",
              "    .colab-df-container {\n",
              "      display:flex;\n",
              "      flex-wrap:wrap;\n",
              "      gap: 12px;\n",
              "    }\n",
              "\n",
              "    .colab-df-convert {\n",
              "      background-color: #E8F0FE;\n",
              "      border: none;\n",
              "      border-radius: 50%;\n",
              "      cursor: pointer;\n",
              "      display: none;\n",
              "      fill: #1967D2;\n",
              "      height: 32px;\n",
              "      padding: 0 0 0 0;\n",
              "      width: 32px;\n",
              "    }\n",
              "\n",
              "    .colab-df-convert:hover {\n",
              "      background-color: #E2EBFA;\n",
              "      box-shadow: 0px 1px 2px rgba(60, 64, 67, 0.3), 0px 1px 3px 1px rgba(60, 64, 67, 0.15);\n",
              "      fill: #174EA6;\n",
              "    }\n",
              "\n",
              "    [theme=dark] .colab-df-convert {\n",
              "      background-color: #3B4455;\n",
              "      fill: #D2E3FC;\n",
              "    }\n",
              "\n",
              "    [theme=dark] .colab-df-convert:hover {\n",
              "      background-color: #434B5C;\n",
              "      box-shadow: 0px 1px 3px 1px rgba(0, 0, 0, 0.15);\n",
              "      filter: drop-shadow(0px 1px 2px rgba(0, 0, 0, 0.3));\n",
              "      fill: #FFFFFF;\n",
              "    }\n",
              "  </style>\n",
              "\n",
              "      <script>\n",
              "        const buttonEl =\n",
              "          document.querySelector('#df-dd31e464-3092-437a-b558-b583a8d63419 button.colab-df-convert');\n",
              "        buttonEl.style.display =\n",
              "          google.colab.kernel.accessAllowed ? 'block' : 'none';\n",
              "\n",
              "        async function convertToInteractive(key) {\n",
              "          const element = document.querySelector('#df-dd31e464-3092-437a-b558-b583a8d63419');\n",
              "          const dataTable =\n",
              "            await google.colab.kernel.invokeFunction('convertToInteractive',\n",
              "                                                     [key], {});\n",
              "          if (!dataTable) return;\n",
              "\n",
              "          const docLinkHtml = 'Like what you see? Visit the ' +\n",
              "            '<a target=\"_blank\" href=https://colab.research.google.com/notebooks/data_table.ipynb>data table notebook</a>'\n",
              "            + ' to learn more about interactive tables.';\n",
              "          element.innerHTML = '';\n",
              "          dataTable['output_type'] = 'display_data';\n",
              "          await google.colab.output.renderOutput(dataTable, element);\n",
              "          const docLink = document.createElement('div');\n",
              "          docLink.innerHTML = docLinkHtml;\n",
              "          element.appendChild(docLink);\n",
              "        }\n",
              "      </script>\n",
              "    </div>\n",
              "  </div>\n",
              "  "
            ]
          },
          "metadata": {},
          "execution_count": 7
        }
      ]
    },
    {
      "cell_type": "markdown",
      "source": [
        "Extracting Features for Image using Pre-trained Models like ResNet50, Inception & EfficientNetB0"
      ],
      "metadata": {
        "id": "nNtSPmNsAza2"
      }
    },
    {
      "cell_type": "code",
      "execution_count": null,
      "metadata": {
        "id": "7HZggW6mKa1o"
      },
      "outputs": [],
      "source": [
        "features1 = {}\n",
        "features2 = {}\n",
        "features3 = {}\n",
        "l = df[\"path\"].to_list()\n",
        "from tensorflow.keras.applications.resnet50 import ResNet50,preprocess_input\n",
        "model = ResNet50()\n",
        "model = Model(inputs = model.inputs, outputs = model.layers[-2].output)\n",
        "c = 0\n",
        "for i in l:\n",
        "    img = load_img(i,target_size=(224,224))\n",
        "    img = img_to_array(img)\n",
        "    img = img.reshape((1,img.shape[0],img.shape[1],img.shape[2]))\n",
        "    img = preprocess_input(img)\n",
        "    feature = model.predict(img, verbose =0)\n",
        "    features1[c] = feature\n",
        "    c+=1\n",
        "from tensorflow.keras.applications.inception_v3 import InceptionV3,preprocess_input\n",
        "model = InceptionV3()\n",
        "model = Model(inputs = model.inputs, outputs = model.layers[-2].output)\n",
        "c = 0\n",
        "for i in l:\n",
        "    img = load_img(i,target_size=(299,299))\n",
        "    img = img_to_array(img)\n",
        "    img = img.reshape((1,img.shape[0],img.shape[1],img.shape[2]))\n",
        "    img = preprocess_input(img)\n",
        "    feature = model.predict(img, verbose =0)\n",
        "    features2[c] = feature\n",
        "    c+=1\n",
        "from tensorflow.keras.applications.efficientnet import EfficientNetB0,preprocess_input\n",
        "model = EfficientNetB0()\n",
        "model = Model(inputs = model.inputs, outputs = model.layers[-2].output)\n",
        "c = 0\n",
        "for i in l:\n",
        "    img = load_img(i,target_size=(224,224))\n",
        "    img = img_to_array(img)\n",
        "    img = img.reshape((1,img.shape[0],img.shape[1],img.shape[2]))\n",
        "    img = preprocess_input(img)\n",
        "    feature = model.predict(img, verbose =0)\n",
        "    features3[c] = feature\n",
        "    c+=1\n",
        "z = []\n",
        "for i in range(0,c):\n",
        "    arr1 = features1[i]\n",
        "    arr2 = features2[i]\n",
        "    arr3 = features3[i]\n",
        "    arr = np.hstack((arr1,arr2,arr3))\n",
        "    z.append(arr)\n",
        "z = np.vstack(z)"
      ]
    },
    {
      "cell_type": "code",
      "execution_count": null,
      "metadata": {
        "id": "hL6QImdUKa1t",
        "colab": {
          "base_uri": "https://localhost:8080/"
        },
        "outputId": "4b2c30c6-a71b-4ca2-d53f-df365480220c"
      },
      "outputs": [
        {
          "output_type": "execute_result",
          "data": {
            "text/plain": [
              "(1148, 5376)"
            ]
          },
          "metadata": {},
          "execution_count": 9
        }
      ],
      "source": [
        "z.shape"
      ]
    },
    {
      "cell_type": "markdown",
      "source": [
        "Spliting Data Into Train,Test sets"
      ],
      "metadata": {
        "id": "ZmhtjidCBz02"
      }
    },
    {
      "cell_type": "code",
      "execution_count": null,
      "metadata": {
        "id": "YDtr1e0_Ka1t"
      },
      "outputs": [],
      "source": [
        "X = pd.DataFrame.from_records(z)\n",
        "y = df[\"is_present\"]\n"
      ]
    },
    {
      "cell_type": "code",
      "source": [
        "X.shape"
      ],
      "metadata": {
        "colab": {
          "base_uri": "https://localhost:8080/"
        },
        "id": "-4ZkEfl20c34",
        "outputId": "e75e0f51-1f88-4399-aa58-e818ad9c1ac6"
      },
      "execution_count": null,
      "outputs": [
        {
          "output_type": "execute_result",
          "data": {
            "text/plain": [
              "(1148, 5376)"
            ]
          },
          "metadata": {},
          "execution_count": 11
        }
      ]
    },
    {
      "cell_type": "markdown",
      "source": [
        "Feature Preprocessing"
      ],
      "metadata": {
        "id": "-CNxMI0oIDy4"
      }
    },
    {
      "cell_type": "code",
      "source": [
        "from sklearn.preprocessing import StandardScaler\n",
        "def preprocessing(train, test):\n",
        "  stdSlr = StandardScaler().fit(train)\n",
        "  X_train = stdSlr.transform(train)\n",
        "  X_test = stdSlr.transform(test)\n",
        "  return X_train,X_test"
      ],
      "metadata": {
        "id": "K_oQCtz1EZfL"
      },
      "execution_count": null,
      "outputs": []
    },
    {
      "cell_type": "markdown",
      "source": [
        "Dimensionality Reduction Of Generated Features"
      ],
      "metadata": {
        "id": "X9_cG_8QBl_q"
      }
    },
    {
      "cell_type": "code",
      "execution_count": null,
      "metadata": {
        "id": "X7GIk_JTKa1u"
      },
      "outputs": [],
      "source": [
        "from sklearn.decomposition import PCA\n",
        "def principal_components(train_data, test_data):\n",
        "\tpca = PCA()\n",
        "\ttrain = train_data\n",
        "\ttrain_data = pca.fit(train_data)\n",
        "\tvar = pca.explained_variance_ratio_\n",
        "\tsum = 0\n",
        "\tfor i in range(len(var)):\n",
        "\t\tsum += var[i]\n",
        "\t\tif sum > 0.95:\n",
        "\t\t\tbreak\n",
        "\tpca = PCA(n_components=i)\n",
        "\ttrain_data = train\n",
        "\ttrain_pca = pca.fit_transform(train_data)\n",
        "\ttest_pca = pca.transform(test_data)\n",
        "\treturn train_pca, test_pca"
      ]
    },
    {
      "cell_type": "markdown",
      "source": [
        "Applying Cross-Validation"
      ],
      "metadata": {
        "id": "N_0OmDWyUtIt"
      }
    },
    {
      "cell_type": "code",
      "source": [
        "from sklearn.metrics import accuracy_score, f1_score, precision_score, recall_score, confusion_matrix\n",
        "from sklearn import svm, ensemble\n",
        "from sklearn.linear_model import LogisticRegression\n",
        "from sklearn.discriminant_analysis import LinearDiscriminantAnalysis\n",
        "from sklearn.linear_model import RidgeClassifierCV\n",
        "from sklearn.neighbors import NearestCentroid\n",
        "from sklearn.model_selection import GridSearchCV\n",
        "import numpy as np\n",
        "\n",
        "val_split = 3\n",
        "\n",
        "\n",
        "def logreg(train, test, train_labels, test_labels):\n",
        "\tC = [10*i for i in range(-3,2)]\n",
        "\tparams={'C': C}\n",
        "\tclf = GridSearchCV(LogisticRegression(class_weight='balanced'),params,cv=val_split)\n",
        "\treturn fit_classifier(clf, train, train_labels, test, test_labels)\n",
        " \n",
        "def random_forests(train, test, train_labels, test_labels):\n",
        "\testimators = [50*i for i in range(4, 6)]\n",
        "\tparameters = {'n_estimators': estimators}\n",
        "\tclf = GridSearchCV(ensemble.RandomForestClassifier(class_weight='balanced'), parameters, cv=val_split)\n",
        "\treturn fit_classifier(clf, train, train_labels, test, test_labels)\n",
        " \n",
        "def LDA(train, test, train_labels, test_labels,solver ='svd'):\n",
        "\tparameters = {'solver': [solver]}\n",
        "\tclf = GridSearchCV(LinearDiscriminantAnalysis(), parameters, cv=val_split)\n",
        "\treturn fit_classifier(clf, train, train_labels, test, test_labels)\n",
        "\n",
        "def RidgeCV(train, test, train_labels, test_labels):\n",
        "  alphas = [0.01, 0.1, 1, 10]\n",
        "  parameters = {'alphas' : alphas}\n",
        "  clf = GridSearchCV(RidgeClassifierCV(fit_intercept=True,scoring ='accuracy'),parameters, cv=val_split)\n",
        "  return fit_classifier(clf, train, train_labels, test, test_labels)\n",
        " \n",
        "def fit_classifier(clf, train, train_labels, test, test_labels):\n",
        "\tclf.fit(train, train_labels)\n",
        "\tpred = clf.predict(test)\n",
        "\tpred = pred.ravel()\n",
        "\tpred = pred.tolist()\n",
        "\ttest_labels = test_labels.ravel()\n",
        "\tact_labels = test_labels.tolist()\n",
        "\tacc = accuracy_score(act_labels,pred)\n",
        "\tf1 = f1_score(act_labels,pred,average='weighted')\n",
        "\tprec = precision_score(act_labels,pred,average='weighted')\n",
        "\trec = recall_score(act_labels,pred,average='weighted')\n",
        "\tconf = confusion_matrix(act_labels,pred)\n",
        "\treturn acc, f1, prec, rec, conf, pred"
      ],
      "metadata": {
        "id": "vBfAq9DLqsgT"
      },
      "execution_count": null,
      "outputs": []
    },
    {
      "cell_type": "markdown",
      "source": [
        "Random Forest"
      ],
      "metadata": {
        "id": "h_VCCrtlQzvp"
      }
    },
    {
      "cell_type": "code",
      "source": [
        "from sklearn.model_selection import StratifiedKFold\n",
        "skf = StratifiedKFold(n_splits=5)\n",
        "a = []\n",
        "f = []\n",
        "p = []\n",
        "r = []\n",
        "for train_index, test_index in skf.split(X,y):\n",
        "  X_train, X_test = X.iloc[train_index], X.iloc[test_index]\n",
        "  y_train, y_test = y.iloc[train_index], y.iloc[test_index]\n",
        "  X_train, X_test = preprocessing(X_train, X_test)\n",
        "  X_train, X_test = principal_components(X_train, X_test)\n",
        "  acc, f1, prec, rec, conf, pred = random_forests(X_train, X_test, y_train, y_test) \n",
        "  a.append(acc)\n",
        "  f.append(f1)\n",
        "  p.append(prec)\n",
        "  r.append(rec)\n",
        "print(\"Accuracy: \" + str(np.mean(a)) + '\\n')\n",
        "print(\"F1 - score: \" + str(np.mean(f)) + '\\n')\n",
        "print(\"Precision: \" + str(np.mean(p)) + '\\n')\n",
        "print(\"Recall: \" + str(np.mean(r)) + '\\n')"
      ],
      "metadata": {
        "colab": {
          "base_uri": "https://localhost:8080/"
        },
        "id": "5f79ZZ_HqevN",
        "outputId": "4834a6b5-368d-4890-bfa6-17caae2fab12"
      },
      "execution_count": null,
      "outputs": [
        {
          "output_type": "stream",
          "name": "stdout",
          "text": [
            "Accuracy: 0.8355268653882666\n",
            "\n",
            "F1 - score: 0.8078014888435817\n",
            "\n",
            "Precision: 0.8861140223822369\n",
            "\n",
            "Recall: 0.8355268653882666\n",
            "\n"
          ]
        }
      ]
    },
    {
      "cell_type": "markdown",
      "source": [
        "Logistic Regression"
      ],
      "metadata": {
        "id": "5X8aRtEIQr6C"
      }
    },
    {
      "cell_type": "code",
      "source": [
        "from sklearn.model_selection import StratifiedKFold\n",
        "from lazypredict.Supervised import LazyClassifier\n",
        "skf = StratifiedKFold(n_splits=5)\n",
        "a = []\n",
        "f = []\n",
        "p = []\n",
        "r = []\n",
        "for train_index, test_index in skf.split(X,y):\n",
        "  X_train, X_test = X.iloc[train_index], X.iloc[test_index]\n",
        "  y_train, y_test = y.iloc[train_index], y.iloc[test_index]\n",
        "  X_train, X_test = preprocessing(X_train, X_test)\n",
        "  X_train, X_test = principal_components(X_train, X_test)\n",
        "  acc, f1, prec, rec, conf, pred = logreg(X_train, X_test, y_train, y_test) \n",
        "  a.append(acc)\n",
        "  f.append(f1)\n",
        "  p.append(prec)\n",
        "  r.append(rec)\n",
        "print(\"Accuracy: \" + str(np.mean(a)) + '\\n')\n",
        "print(\"F1 - score: \" + str(np.mean(f)) + '\\n')\n",
        "print(\"Precision: \" + str(np.mean(p)) + '\\n')\n",
        "print(\"Recall: \" + str(np.mean(r)) + '\\n')"
      ],
      "metadata": {
        "colab": {
          "base_uri": "https://localhost:8080/"
        },
        "id": "qLiVY8Woqeyt",
        "outputId": "930e7ce9-2682-4ed8-ecec-c1c9e56acb97"
      },
      "execution_count": null,
      "outputs": [
        {
          "output_type": "stream",
          "name": "stdout",
          "text": [
            "Accuracy: 0.8720410100626543\n",
            "\n",
            "F1 - score: 0.8653910596627081\n",
            "\n",
            "Precision: 0.8989325005643843\n",
            "\n",
            "Recall: 0.8720410100626543\n",
            "\n"
          ]
        }
      ]
    },
    {
      "cell_type": "markdown",
      "source": [
        "LDA"
      ],
      "metadata": {
        "id": "8hke_x7iQmrj"
      }
    },
    {
      "cell_type": "code",
      "source": [
        "from sklearn.model_selection import StratifiedKFold\n",
        "skf = StratifiedKFold(n_splits=5)\n",
        "a = []\n",
        "f = []\n",
        "p = []\n",
        "r = []\n",
        "for train_index, test_index in skf.split(X,y):\n",
        "  X_train, X_test = X.iloc[train_index], X.iloc[test_index]\n",
        "  y_train, y_test = y.iloc[train_index], y.iloc[test_index]\n",
        "  X_train, X_test = preprocessing(X_train, X_test)\n",
        "  X_train, X_test = principal_components(X_train, X_test)\n",
        "  acc, f1, prec, rec, conf, pred = LDA(X_train, X_test, y_train, y_test) \n",
        "  a.append(acc)\n",
        "  f.append(f1)\n",
        "  p.append(prec)\n",
        "  r.append(rec)\n",
        "print(\"Accuracy: \" + str(np.mean(a)) + '\\n')\n",
        "print(\"F1 - score: \" + str(np.mean(f)) + '\\n')\n",
        "print(\"Precision: \" + str(np.mean(p)) + '\\n')\n",
        "print(\"Recall: \" + str(np.mean(r)) + '\\n')"
      ],
      "metadata": {
        "colab": {
          "base_uri": "https://localhost:8080/"
        },
        "id": "b5TBKmINqe5V",
        "outputId": "816140da-c9e1-4f68-e011-cf8e4b7d57db"
      },
      "execution_count": null,
      "outputs": [
        {
          "output_type": "stream",
          "name": "stdout",
          "text": [
            "Accuracy: 0.8868501993544713\n",
            "\n",
            "F1 - score: 0.8819052173710704\n",
            "\n",
            "Precision: 0.9093725776832329\n",
            "\n",
            "Recall: 0.8868501993544713\n",
            "\n"
          ]
        }
      ]
    },
    {
      "cell_type": "markdown",
      "source": [
        "RidgeCV"
      ],
      "metadata": {
        "id": "l7Gb-U4EQhnd"
      }
    },
    {
      "cell_type": "code",
      "source": [
        "from sklearn.model_selection import StratifiedKFold\n",
        "skf = StratifiedKFold(n_splits=5)\n",
        "a = []\n",
        "f = []\n",
        "p = []\n",
        "r = []\n",
        "for train_index, test_index in skf.split(X,y):\n",
        "  X_train, X_test = X.iloc[train_index], X.iloc[test_index]\n",
        "  y_train, y_test = y.iloc[train_index], y.iloc[test_index]\n",
        "  X_train, X_test = preprocessing(X_train, X_test)\n",
        "  X_train, X_test = principal_components(X_train, X_test)\n",
        "  acc, f1, prec, rec, conf, pred = RidgeCV(X_train, X_test, y_train, y_test) \n",
        "  a.append(acc)\n",
        "  f.append(f1)\n",
        "  p.append(prec)\n",
        "  r.append(rec)\n",
        "print(\"Accuracy: \" + str(np.mean(a)) + '\\n')\n",
        "print(\"F1 - score: \" + str(np.mean(f)) + '\\n')\n",
        "print(\"Precision: \" + str(np.mean(p)) + '\\n')\n",
        "print(\"Recall: \" + str(np.mean(r)) + '\\n')"
      ],
      "metadata": {
        "colab": {
          "base_uri": "https://localhost:8080/"
        },
        "id": "HO2ROg8Sqe8l",
        "outputId": "32e3246b-3701-449d-c73d-eb587d615a55"
      },
      "execution_count": null,
      "outputs": [
        {
          "output_type": "stream",
          "name": "stdout",
          "text": [
            "Accuracy: 0.8885855325612303\n",
            "\n",
            "F1 - score: 0.884024043076743\n",
            "\n",
            "Precision: 0.9110843784786123\n",
            "\n",
            "Recall: 0.8885855325612303\n",
            "\n"
          ]
        }
      ]
    }
  ],
  "metadata": {
    "kernelspec": {
      "display_name": "Python 3 (ipykernel)",
      "language": "python",
      "name": "python3"
    },
    "language_info": {
      "codemirror_mode": {
        "name": "ipython",
        "version": 3
      },
      "file_extension": ".py",
      "mimetype": "text/x-python",
      "name": "python",
      "nbconvert_exporter": "python",
      "pygments_lexer": "ipython3",
      "version": "3.9.12"
    },
    "colab": {
      "provenance": []
    }
  },
  "nbformat": 4,
  "nbformat_minor": 0
}